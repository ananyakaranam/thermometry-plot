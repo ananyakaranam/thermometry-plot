{
 "cells": [
  {
   "cell_type": "markdown",
   "metadata": {},
   "source": [
    "# Thermometry Plot\n",
    "This notebook currently plots the Channel 7 temperature and resistance of a Rox sensor during a cooldown, but it can also plot voltage, resistance, or temperature in other channels based on the fields selected."
   ]
  },
  {
   "cell_type": "code",
   "execution_count": null,
   "metadata": {},
   "outputs": [],
   "source": [
    "import os\n",
    "\n",
    "import so3g\n",
    "from so3g.hk.getdata import HKArchiveScanner"
   ]
  },
  {
   "cell_type": "markdown",
   "metadata": {},
   "source": [
    "## Open and View Data\n",
    "Select directory of g3 files and view data."
   ]
  },
  {
   "cell_type": "code",
   "execution_count": null,
   "metadata": {},
   "outputs": [],
   "source": [
    "data_dir = '/config/cooldown'\n"
   ]
  },
  {
   "cell_type": "code",
   "execution_count": null,
   "metadata": {},
   "outputs": [],
   "source": [
    "ls '/config/cooldown'"
   ]
  },
  {
   "cell_type": "markdown",
   "metadata": {},
   "source": [
    "## Build a File List\n",
    "Create a list of g3 files from the data directory."
   ]
  },
  {
   "cell_type": "code",
   "execution_count": null,
   "metadata": {},
   "outputs": [],
   "source": [
    "search = os.walk(data_dir)\n",
    "files = []\n",
    "\n",
    "for root, directory, _file in search:\n",
    "    for f in _file:\n",
    "        if f[-2:] == 'g3':\n",
    "            files.append(os.path.join(root,f))"
   ]
  },
  {
   "cell_type": "code",
   "execution_count": null,
   "metadata": {},
   "outputs": [],
   "source": [
    "print(files)"
   ]
  },
  {
   "cell_type": "markdown",
   "metadata": {},
   "source": [
    "## Use HKArchiveScanner\n",
    "HKArchiveScanner determines what data fields are in a data archive and can group fields with a shared timeline."
   ]
  },
  {
   "cell_type": "code",
   "execution_count": null,
   "metadata": {},
   "outputs": [],
   "source": [
    "hkcs = HKArchiveScanner()\n",
    "for filename in files:\n",
    "    hkcs.process_file(filename)\n",
    "cat = hkcs.finalize()\n",
    "fields, timelines = cat.get_fields()\n",
    "print(fields)\n",
    "for field_name in sorted(fields):\n",
    "    group_name = fields[field_name]['timeline']\n",
    "    #print(field_name, timelines[group_name]['interval'])\n",
    "    #print(group_name)"
   ]
  },
  {
   "cell_type": "code",
   "execution_count": null,
   "metadata": {},
   "outputs": [],
   "source": [
    "list(fields.keys())"
   ]
  },
  {
   "cell_type": "markdown",
   "metadata": {},
   "source": [
    "Choose fields to plot from the field list above."
   ]
  },
  {
   "cell_type": "code",
   "execution_count": null,
   "metadata": {},
   "outputs": [],
   "source": [
    "field_name = list(fields.keys())[1]\n",
    "field_name2 = list(fields.keys())[0]\n",
    "print(field_name, field_name2)\n",
    "\n",
    "fields, timelines = cat.get_data([field_name])\n",
    "fields2, timelines = cat.get_data([field_name2])\n",
    "x = fields[field_name]\n",
    "y = fields2[field_name2]\n",
    "#print(fields[field_name], fields2[field_name2])"
   ]
  },
  {
   "cell_type": "markdown",
   "metadata": {},
   "source": [
    "If you see the error \"list index out of range\", try running the entire section again."
   ]
  },
  {
   "cell_type": "markdown",
   "metadata": {},
   "source": [
    "## Plot Data"
   ]
  },
  {
   "cell_type": "code",
   "execution_count": null,
   "metadata": {},
   "outputs": [],
   "source": [
    "import pylab as pl\n",
    "pl.rcParams[\"figure.figsize\"] = [16,9]\n",
    "pl.scatter(x, y)\n",
    "pl.title(field_name)\n",
    "pl.xlabel(field_name)\n",
    "pl.ylabel(field_name2)\n",
    "pl.show()"
   ]
  },
  {
   "cell_type": "code",
   "execution_count": null,
   "metadata": {},
   "outputs": [],
   "source": []
  }
 ],
 "metadata": {
  "kernelspec": {
   "display_name": "Python 3",
   "language": "python",
   "name": "python3"
  },
  "language_info": {
   "codemirror_mode": {
    "name": "ipython",
    "version": 3
   },
   "file_extension": ".py",
   "mimetype": "text/x-python",
   "name": "python",
   "nbconvert_exporter": "python",
   "pygments_lexer": "ipython3",
   "version": "3.6.7"
  }
 },
 "nbformat": 4,
 "nbformat_minor": 2
}
